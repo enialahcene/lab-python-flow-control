{
 "cells": [
  {
   "cell_type": "markdown",
   "id": "d3bfc191-8885-42ee-b0a0-bbab867c6f9f",
   "metadata": {
    "tags": []
   },
   "source": [
    "# Lab | Flow Control"
   ]
  },
  {
   "cell_type": "markdown",
   "id": "3851fcd1-cf98-4653-9c89-e003b7ec9400",
   "metadata": {},
   "source": [
    "## Exercise: Managing Customer Orders Optimized\n",
    "\n",
    "In the last lab, you were starting an online store that sells various products. To ensure smooth operations, you developed a program that manages customer orders and inventory.\n",
    "\n",
    "You did so without using flow control. Let's go a step further and improve this code.\n",
    "\n",
    "Follow the steps below to complete the exercise:\n",
    "\n",
    "1. Look at your code from the lab data structures, and improve repeated code with loops.\n",
    "\n",
    "2. Instead of asking the user to input the name of three products that a customer wants to order, do the following:\n",
    "    \n",
    "    a. Prompt the user to enter the name of a product that a customer wants to order.\n",
    "    \n",
    "    b. Add the product name to the \"customer_orders\" set.\n",
    "    \n",
    "    c. Ask the user if they want to add another product (yes/no).\n",
    "    \n",
    "    d. Continue the loop until the user does not want to add another product.\n",
    "\n",
    "3. Instead of updating the inventory by subtracting 1 from the quantity of each product, only do it for  the products that were ordered (those in \"customer_orders\")."
   ]
  },
  {
   "cell_type": "code",
   "execution_count": 8,
   "id": "83027163",
   "metadata": {},
   "outputs": [
    {
     "name": "stdout",
     "output_type": "stream",
     "text": [
      "{'t-shirt': 1, 'mug': 2, 'hat': 3, 'book': 4, 'keychain': 5}\n",
      "{'book', 'hat', 'mug'}\n",
      "\n",
      "   Order Statistics:\n",
      "   Total Products Ordered: 3\n",
      "   Percentage of Products Ordered: 60.0% \n",
      "   \n",
      "t-shirt: 1\n",
      "mug: 1\n",
      "hat: 2\n",
      "book: 3\n",
      "keychain: 5\n"
     ]
    }
   ],
   "source": [
    "#Step 1: I did it already with the loops in the first lab\n",
    "\n",
    "products = [\"t-shirt\", \"mug\", \"hat\", \"book\", \"keychain\"]\n",
    "\n",
    "inventory = {}\n",
    "\n",
    "for key in products:\n",
    "    inventory[key] = 0\n",
    "\n",
    "for key in inventory:\n",
    "    value = int(input(f\"Give me the value for the key {key}: \"))\n",
    "    inventory[key] = value\n",
    "\n",
    "print(inventory)\n",
    "\n",
    "customer_orders = set()\n",
    "\n",
    "\n",
    "\n",
    "for i in range(3):\n",
    "    order = input(f\"Enter the name of a product from the list: {products} \")\n",
    "    while order not in products:\n",
    "        order = input(f\"That value is not on the list. Please, add a value from the following list {products} \")\n",
    "    customer_orders.add(order)\n",
    "\n",
    "print(customer_orders)\n",
    "\n",
    "total_prod_ord = len(customer_orders)\n",
    "\n",
    "percentaje = len(customer_orders)/len(products)*100\n",
    "\n",
    "\n",
    "\n",
    "order_status = (total_prod_ord,percentaje)\n",
    "\n",
    "print(f'''\n",
    "   Order Statistics:\n",
    "   Total Products Ordered: {order_status[0]}\n",
    "   Percentage of Products Ordered: {order_status[1]}% \n",
    "   ''')\n",
    "\n",
    "    \n",
    "for key in inventory:\n",
    "    if key in customer_orders:\n",
    "        inventory[key] -= 1\n",
    "\n",
    "for key,value in inventory.items():\n",
    "    print(f\"{key}: {value}\")"
   ]
  },
  {
   "cell_type": "code",
   "execution_count": 11,
   "id": "16acef02",
   "metadata": {},
   "outputs": [
    {
     "name": "stdout",
     "output_type": "stream",
     "text": [
      "{'t-shirt': 3, 'mug': 4, 'hat': 5, 'book': 6, 'keychain': 4}\n",
      "{'mug'}\n"
     ]
    }
   ],
   "source": [
    "#Step 2: Add to the set the product that the customer wants, not only 3. Also, dont add it if the value is wrong, if this value is wrong ask for another product\n",
    "products = [\"t-shirt\", \"mug\", \"hat\", \"book\", \"keychain\"]\n",
    "\n",
    "inventory = {}\n",
    "\n",
    "for key in products:\n",
    "    inventory[key] = 0\n",
    "\n",
    "for key in inventory:\n",
    "    value = int(input(f\"Give me the value for the key {key}: \"))\n",
    "    inventory[key] = value\n",
    "\n",
    "print(inventory)\n",
    "\n",
    "\n",
    "customer_orders = set()\n",
    "\n",
    "answer = \"YES\"\n",
    "\n",
    "\n",
    "\n",
    "\n",
    "while answer == \"YES\":\n",
    "    order = input(f\"Enter the name of a product from the list: {products} \")\n",
    "    while order not in products:\n",
    "        order = input(f\"That value is not on the list. Please, add a value from the following list {products} \")\n",
    "    customer_orders.add(order)\n",
    "    answer = input(\"Do you want to add another product? Ask yes or not: \").upper()\n",
    "\n",
    "print(customer_orders)    \n",
    "\n"
   ]
  },
  {
   "cell_type": "code",
   "execution_count": 12,
   "id": "04853542",
   "metadata": {},
   "outputs": [
    {
     "name": "stdout",
     "output_type": "stream",
     "text": [
      "t-shirt: 3\n",
      "mug: 3\n",
      "hat: 5\n",
      "book: 6\n",
      "keychain: 4\n"
     ]
    }
   ],
   "source": [
    "#Step 3: I did it already in the first lab because i understood wrongly the exercise\n",
    "for key in inventory:\n",
    "    if key in customer_orders:\n",
    "        inventory[key] -= 1\n",
    "\n",
    "for key,value in inventory.items():\n",
    "    print(f\"{key}: {value}\")"
   ]
  }
 ],
 "metadata": {
  "kernelspec": {
   "display_name": "Python 3 (ipykernel)",
   "language": "python",
   "name": "python3"
  },
  "language_info": {
   "codemirror_mode": {
    "name": "ipython",
    "version": 3
   },
   "file_extension": ".py",
   "mimetype": "text/x-python",
   "name": "python",
   "nbconvert_exporter": "python",
   "pygments_lexer": "ipython3",
   "version": "3.12.6"
  }
 },
 "nbformat": 4,
 "nbformat_minor": 5
}
